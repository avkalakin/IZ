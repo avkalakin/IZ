{
 "cells": [
  {
   "cell_type": "code",
   "execution_count": 69,
   "metadata": {},
   "outputs": [],
   "source": [
    "import sqlite3\n",
    "import pickle\n",
    "\n",
    "conn = sqlite3.connect('Blobs.db')\n",
    "cur = conn.cursor()\n",
    "cur.execute('''CREATE TABLE IF NOT EXISTS BLOBS(\n",
    "   ID TEXT PRIMARY KEY,\n",
    "   VAR BLOB);\n",
    "''')\n",
    "conn.commit()"
   ]
  },
  {
   "cell_type": "code",
   "execution_count": 61,
   "metadata": {},
   "outputs": [],
   "source": [
    "def save_var(var):\n",
    "    cur.execute(\"INSERT OR REPLACE INTO BLOBS (ID, VAR) VALUES(?, ?);\", (f'{var=}'.split('=')[0],pickle.dumps(var)))\n",
    "    conn.commit()"
   ]
  },
  {
   "cell_type": "code",
   "execution_count": 70,
   "metadata": {},
   "outputs": [],
   "source": [
    "class var:\n",
    "    def __init__(self, name, val):\n",
    "        self.name = name\n",
    "        self.val = val\n",
    "\n",
    "x = var('var', 11)#; print(x.val)\n",
    "y = var('var', 33)#; print(y.val)\n",
    "\n",
    "cur.execute(\"INSERT OR REPLACE INTO BLOBS (ID, VAR) VALUES(?, ?);\", (f'{x=}'.split('=')[0],pickle.dumps(x)))\n",
    "cur.execute(\"INSERT OR REPLACE INTO BLOBS (ID, VAR) VALUES(?, ?);\", (f'{y=}'.split('=')[0],pickle.dumps(y)))\n",
    "conn.commit()\n"
   ]
  },
  {
   "cell_type": "code",
   "execution_count": 81,
   "metadata": {},
   "outputs": [
    {
     "name": "stdout",
     "output_type": "stream",
     "text": [
      "<__main__.var object at 0x0000021062874EB0> <__main__.var object at 0x0000021062788880>\n"
     ]
    }
   ],
   "source": [
    "print(x,y)\n",
    "del globals()['x']\n",
    "del globals()['y']\n",
    "#print(x,y)"
   ]
  },
  {
   "cell_type": "code",
   "execution_count": 82,
   "metadata": {},
   "outputs": [
    {
     "name": "stdout",
     "output_type": "stream",
     "text": [
      "x 11\n",
      "y 33\n"
     ]
    }
   ],
   "source": [
    "cur.execute('select * from BLOBS')\n",
    "records = cur.fetchall()\n",
    "for row in records:\n",
    "    globals()[row[0]] = pickle.loads(row[1])\n",
    "    print(row[0], globals()[row[0]].val)\n",
    "# x = pickle.loads(records[0][0])\n",
    "# y = pickle.loads(records[0][1])\n"
   ]
  }
 ],
 "metadata": {
  "kernelspec": {
   "display_name": "Python 3",
   "language": "python",
   "name": "python3"
  },
  "language_info": {
   "codemirror_mode": {
    "name": "ipython",
    "version": 3
   },
   "file_extension": ".py",
   "mimetype": "text/x-python",
   "name": "python",
   "nbconvert_exporter": "python",
   "pygments_lexer": "ipython3",
   "version": "3.9.7"
  },
  "orig_nbformat": 4,
  "vscode": {
   "interpreter": {
    "hash": "78850b71a2fb120fcae5946032d9fb315be7b4084d4d416f7138ff1679ca93fc"
   }
  }
 },
 "nbformat": 4,
 "nbformat_minor": 2
}
